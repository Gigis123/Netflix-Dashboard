{
 "cells": [
  {
   "cell_type": "markdown",
   "metadata": {},
   "source": [
    "\n",
    "=================================================\n",
    "\n",
    "Milestone 1\n",
    "\n",
    "Nama  : Achmad Abdillah Ghifari\n",
    "\n",
    "Batch : BSD-006\n",
    "\n",
    "In this program, we are trying to find a solution for netflix due to numerous complaint regarding the low quality and diversity of movies and show. the program will try to give insight on consumer preference from Netflixs previous movie in order to help Netflix make the decision on what movies and show they could acquire to not only increase their movie catalogue but also to increase their overall movies rating which will increase Netflixs customer retention. After the analysis part, a dashboard will be made using the application Tableau in order to help visualize the result of the analysis. The output of the Tableau can be accessed with the link below.\n",
    "\n",
    "[Tableau](https://public.tableau.com/app/profile/achmad.abdillah.ghifari/viz/NetflixIMDBRatingDashboard/Dashboardmain?publish=yes)\n",
    "\n",
    "The following is the original dataset:\n",
    "\n",
    "[Original Data](https://www.kaggle.com/datasets/thedevastator/netflix-imdb-scores/data)\n",
    "\n",
    "================================================="
   ]
  },
  {
   "cell_type": "markdown",
   "metadata": {},
   "source": [
    "In order to analyze the data using phyton, we will need to make a trouble statement in order to explain the problem that resulted in the need for analyzing the data. we also need to create an objective on what we want to achieve with the analysis. lastly we need to create the problem description, in this we create specific question using 5w+1h method on what question we want to answer from the analysis"
   ]
  },
  {
   "cell_type": "markdown",
   "metadata": {},
   "source": [
    "Problem Statement:\n",
    "\n",
    "very recently, Netflix have had multiple complaints that their available movie catalogue is terrible and not diverse, leading to a lower retention rate in Netflix's users. As Netflix data analyst. we must identify which factors affect a film rating and views aswell as suggest which movies or show to acquire in order to maximize customer retention and satisfaction\n",
    "\n",
    "[REF](https://thelambertpost.com/showcase/is-netflix-getting-worse-2/)\n",
    "\n",
    "Objective:\n",
    "\n",
    "Increase the overall movie-shows rating and views to achieve an average of more than 7 rating by the end of next month. This is done by finding factors that affect movie and shows rating and increasing the existing movie and shows catalogue with highly rated movie and shows in order to enhance customer retention rate, customer satisfaction, and foster a positive reputation among users\n",
    "\n",
    "We will try to analyze the following 5W+1H question:\n",
    "1. What film type have the highest average IMDB score? \n",
    "2. how many movies and shows was produced throught the year in the netfix catalogue? \n",
    "3. which age certification have the highest Imdb votes? \n",
    "4. What is the top 5 shows and films with the highest imdb rating\n",
    "5. do people prefer to watch older or newer film (pre and post 2000)? \n",
    "6. what is the spread of movies and shows runtime? \n",
    "7. do people rate longer runtime movie higher?\n"
   ]
  },
  {
   "cell_type": "markdown",
   "metadata": {},
   "source": [
    "# Import Libraries"
   ]
  },
  {
   "cell_type": "markdown",
   "metadata": {},
   "source": [
    "Before we start the data cleaning step. we first need to download the necessary libraries from phyton. we use pandas to make the dataframe and read the csv, (scipy, matplot.lib, and seaborn) is used for making plot and warnings is used to ignore some warnings that occured in the calculation "
   ]
  },
  {
   "cell_type": "code",
   "execution_count": 24,
   "metadata": {},
   "outputs": [],
   "source": [
    "# import libraries \n",
    "import pandas as pd\n",
    "import numpy as np \n",
    "from scipy import stats \n",
    "import matplotlib.pyplot as plt\n",
    "import seaborn as sns\n",
    "import warnings\n",
    "warnings.filterwarnings('ignore')"
   ]
  },
  {
   "cell_type": "markdown",
   "metadata": {},
   "source": [
    "# Data Loading"
   ]
  },
  {
   "cell_type": "markdown",
   "metadata": {},
   "source": [
    "In this step, we load the data that is in the form of csv. we also create a copy of the main csv to be able to manipulate the data without disturbing the original. lastly we also include the query to load the data in SQL in a markdown"
   ]
  },
  {
   "cell_type": "code",
   "execution_count": 25,
   "metadata": {},
   "outputs": [
    {
     "data": {
      "text/html": [
       "<div>\n",
       "<style scoped>\n",
       "    .dataframe tbody tr th:only-of-type {\n",
       "        vertical-align: middle;\n",
       "    }\n",
       "\n",
       "    .dataframe tbody tr th {\n",
       "        vertical-align: top;\n",
       "    }\n",
       "\n",
       "    .dataframe thead th {\n",
       "        text-align: right;\n",
       "    }\n",
       "</style>\n",
       "<table border=\"1\" class=\"dataframe\">\n",
       "  <thead>\n",
       "    <tr style=\"text-align: right;\">\n",
       "      <th></th>\n",
       "      <th>index</th>\n",
       "      <th>id</th>\n",
       "      <th>title</th>\n",
       "      <th>type</th>\n",
       "      <th>description</th>\n",
       "      <th>release_year</th>\n",
       "      <th>age_certification</th>\n",
       "      <th>runtime</th>\n",
       "      <th>imdb_id</th>\n",
       "      <th>imdb_score</th>\n",
       "      <th>imdb_votes</th>\n",
       "    </tr>\n",
       "  </thead>\n",
       "  <tbody>\n",
       "    <tr>\n",
       "      <th>0</th>\n",
       "      <td>0</td>\n",
       "      <td>tm84618</td>\n",
       "      <td>Taxi Driver</td>\n",
       "      <td>MOVIE</td>\n",
       "      <td>A mentally unstable Vietnam War veteran works ...</td>\n",
       "      <td>1976</td>\n",
       "      <td>R</td>\n",
       "      <td>113</td>\n",
       "      <td>tt0075314</td>\n",
       "      <td>8.3</td>\n",
       "      <td>795222.0</td>\n",
       "    </tr>\n",
       "    <tr>\n",
       "      <th>1</th>\n",
       "      <td>1</td>\n",
       "      <td>tm127384</td>\n",
       "      <td>Monty Python and the Holy Grail</td>\n",
       "      <td>MOVIE</td>\n",
       "      <td>King Arthur, accompanied by his squire, recrui...</td>\n",
       "      <td>1975</td>\n",
       "      <td>PG</td>\n",
       "      <td>91</td>\n",
       "      <td>tt0071853</td>\n",
       "      <td>8.2</td>\n",
       "      <td>530877.0</td>\n",
       "    </tr>\n",
       "    <tr>\n",
       "      <th>2</th>\n",
       "      <td>2</td>\n",
       "      <td>tm70993</td>\n",
       "      <td>Life of Brian</td>\n",
       "      <td>MOVIE</td>\n",
       "      <td>Brian Cohen is an average young Jewish man, bu...</td>\n",
       "      <td>1979</td>\n",
       "      <td>R</td>\n",
       "      <td>94</td>\n",
       "      <td>tt0079470</td>\n",
       "      <td>8.0</td>\n",
       "      <td>392419.0</td>\n",
       "    </tr>\n",
       "    <tr>\n",
       "      <th>3</th>\n",
       "      <td>3</td>\n",
       "      <td>tm190788</td>\n",
       "      <td>The Exorcist</td>\n",
       "      <td>MOVIE</td>\n",
       "      <td>12-year-old Regan MacNeil begins to adapt an e...</td>\n",
       "      <td>1973</td>\n",
       "      <td>R</td>\n",
       "      <td>133</td>\n",
       "      <td>tt0070047</td>\n",
       "      <td>8.1</td>\n",
       "      <td>391942.0</td>\n",
       "    </tr>\n",
       "    <tr>\n",
       "      <th>4</th>\n",
       "      <td>4</td>\n",
       "      <td>ts22164</td>\n",
       "      <td>Monty Python's Flying Circus</td>\n",
       "      <td>SHOW</td>\n",
       "      <td>A British sketch comedy series with the shows ...</td>\n",
       "      <td>1969</td>\n",
       "      <td>TV-14</td>\n",
       "      <td>30</td>\n",
       "      <td>tt0063929</td>\n",
       "      <td>8.8</td>\n",
       "      <td>72895.0</td>\n",
       "    </tr>\n",
       "    <tr>\n",
       "      <th>...</th>\n",
       "      <td>...</td>\n",
       "      <td>...</td>\n",
       "      <td>...</td>\n",
       "      <td>...</td>\n",
       "      <td>...</td>\n",
       "      <td>...</td>\n",
       "      <td>...</td>\n",
       "      <td>...</td>\n",
       "      <td>...</td>\n",
       "      <td>...</td>\n",
       "      <td>...</td>\n",
       "    </tr>\n",
       "    <tr>\n",
       "      <th>5278</th>\n",
       "      <td>5278</td>\n",
       "      <td>tm1040816</td>\n",
       "      <td>Momshies! Your Soul is Mine</td>\n",
       "      <td>MOVIE</td>\n",
       "      <td>Three women with totally different lives accid...</td>\n",
       "      <td>2021</td>\n",
       "      <td>NaN</td>\n",
       "      <td>108</td>\n",
       "      <td>tt14412240</td>\n",
       "      <td>5.8</td>\n",
       "      <td>26.0</td>\n",
       "    </tr>\n",
       "    <tr>\n",
       "      <th>5279</th>\n",
       "      <td>5279</td>\n",
       "      <td>tm1014599</td>\n",
       "      <td>Fine Wine</td>\n",
       "      <td>MOVIE</td>\n",
       "      <td>A beautiful love story that can happen between...</td>\n",
       "      <td>2021</td>\n",
       "      <td>NaN</td>\n",
       "      <td>100</td>\n",
       "      <td>tt13857480</td>\n",
       "      <td>6.9</td>\n",
       "      <td>39.0</td>\n",
       "    </tr>\n",
       "    <tr>\n",
       "      <th>5280</th>\n",
       "      <td>5280</td>\n",
       "      <td>tm1045018</td>\n",
       "      <td>Clash</td>\n",
       "      <td>MOVIE</td>\n",
       "      <td>A man from Nigeria returns to his family in Ca...</td>\n",
       "      <td>2021</td>\n",
       "      <td>NaN</td>\n",
       "      <td>88</td>\n",
       "      <td>tt14620732</td>\n",
       "      <td>6.5</td>\n",
       "      <td>32.0</td>\n",
       "    </tr>\n",
       "    <tr>\n",
       "      <th>5281</th>\n",
       "      <td>5281</td>\n",
       "      <td>tm1098060</td>\n",
       "      <td>Shadow Parties</td>\n",
       "      <td>MOVIE</td>\n",
       "      <td>A family faces destruction in a long-running c...</td>\n",
       "      <td>2021</td>\n",
       "      <td>NaN</td>\n",
       "      <td>116</td>\n",
       "      <td>tt10168094</td>\n",
       "      <td>6.2</td>\n",
       "      <td>9.0</td>\n",
       "    </tr>\n",
       "    <tr>\n",
       "      <th>5282</th>\n",
       "      <td>5282</td>\n",
       "      <td>ts271048</td>\n",
       "      <td>Mighty Little Bheem: Kite Festival</td>\n",
       "      <td>SHOW</td>\n",
       "      <td>With winter behind them, Bheem and his townspe...</td>\n",
       "      <td>2021</td>\n",
       "      <td>NaN</td>\n",
       "      <td>0</td>\n",
       "      <td>tt13711094</td>\n",
       "      <td>8.8</td>\n",
       "      <td>16.0</td>\n",
       "    </tr>\n",
       "  </tbody>\n",
       "</table>\n",
       "<p>5283 rows × 11 columns</p>\n",
       "</div>"
      ],
      "text/plain": [
       "      index         id                               title   type  \\\n",
       "0         0    tm84618                         Taxi Driver  MOVIE   \n",
       "1         1   tm127384     Monty Python and the Holy Grail  MOVIE   \n",
       "2         2    tm70993                       Life of Brian  MOVIE   \n",
       "3         3   tm190788                        The Exorcist  MOVIE   \n",
       "4         4    ts22164        Monty Python's Flying Circus   SHOW   \n",
       "...     ...        ...                                 ...    ...   \n",
       "5278   5278  tm1040816         Momshies! Your Soul is Mine  MOVIE   \n",
       "5279   5279  tm1014599                           Fine Wine  MOVIE   \n",
       "5280   5280  tm1045018                               Clash  MOVIE   \n",
       "5281   5281  tm1098060                      Shadow Parties  MOVIE   \n",
       "5282   5282   ts271048  Mighty Little Bheem: Kite Festival   SHOW   \n",
       "\n",
       "                                            description  release_year  \\\n",
       "0     A mentally unstable Vietnam War veteran works ...          1976   \n",
       "1     King Arthur, accompanied by his squire, recrui...          1975   \n",
       "2     Brian Cohen is an average young Jewish man, bu...          1979   \n",
       "3     12-year-old Regan MacNeil begins to adapt an e...          1973   \n",
       "4     A British sketch comedy series with the shows ...          1969   \n",
       "...                                                 ...           ...   \n",
       "5278  Three women with totally different lives accid...          2021   \n",
       "5279  A beautiful love story that can happen between...          2021   \n",
       "5280  A man from Nigeria returns to his family in Ca...          2021   \n",
       "5281  A family faces destruction in a long-running c...          2021   \n",
       "5282  With winter behind them, Bheem and his townspe...          2021   \n",
       "\n",
       "     age_certification  runtime     imdb_id  imdb_score  imdb_votes  \n",
       "0                    R      113   tt0075314         8.3    795222.0  \n",
       "1                   PG       91   tt0071853         8.2    530877.0  \n",
       "2                    R       94   tt0079470         8.0    392419.0  \n",
       "3                    R      133   tt0070047         8.1    391942.0  \n",
       "4                TV-14       30   tt0063929         8.8     72895.0  \n",
       "...                ...      ...         ...         ...         ...  \n",
       "5278               NaN      108  tt14412240         5.8        26.0  \n",
       "5279               NaN      100  tt13857480         6.9        39.0  \n",
       "5280               NaN       88  tt14620732         6.5        32.0  \n",
       "5281               NaN      116  tt10168094         6.2         9.0  \n",
       "5282               NaN        0  tt13711094         8.8        16.0  \n",
       "\n",
       "[5283 rows x 11 columns]"
      ]
     },
     "execution_count": 25,
     "metadata": {},
     "output_type": "execute_result"
    }
   ],
   "source": [
    "# Loading the data from csv\n",
    "netflix_ori = pd.read_csv('Netflix TV Shows and Movies.csv') # load data csv\n",
    "netflix = netflix_ori.copy()  # making a copy from the main csv for data manipulation\n",
    "netflix = pd.DataFrame(netflix)\n",
    "netflix"
   ]
  },
  {
   "cell_type": "markdown",
   "metadata": {},
   "source": [
    "Query Data:\n",
    "```sql \n",
    "select *\n",
    "from 'Netflix TV Shows and Movies.csv'\n",
    "```\n",
    "\n",
    "a simple query for getting the data if we open it in SQL"
   ]
  },
  {
   "cell_type": "markdown",
   "metadata": {},
   "source": [
    "# Data Cleaning"
   ]
  },
  {
   "cell_type": "markdown",
   "metadata": {},
   "source": [
    "In this step, we clean the data by performing actions such as dropping unnecessary column, checking for and handling duplicate, checking for and handling missing value, changing column to a proper datatype, and lastly calculating skew in order to find and handle the outlier."
   ]
  },
  {
   "cell_type": "code",
   "execution_count": 26,
   "metadata": {},
   "outputs": [],
   "source": [
    "# dropping the extra index table\n",
    "netflix.drop('index', axis=1, inplace=True)\n",
    "\n",
    "# dropping the description column\n",
    "netflix.drop('description', axis=1, inplace=True)\n",
    "\n",
    "# dropping both id column\n",
    "netflix.drop('id', axis=1, inplace=True)\n",
    "netflix.drop('imdb_id', axis=1, inplace=True)\n"
   ]
  },
  {
   "cell_type": "markdown",
   "metadata": {},
   "source": [
    "We decided to drop the index table, description, and both id table for these reasons. the index table is deleted as phyton and pandas already have their own index table so having an extra one is irrelevant and confusing. the description table is deleted as it is not needed for the visualization of the data or the calculation of the data. The description table is also not part of the problem statement or objective as it only serve as a short summary of the film title. and we drop both the id table as we believe that the id is not needed for the calculation as the id helps to only confirm that the data are real using [JustWatch](https://www.justwatch.com/)"
   ]
  },
  {
   "cell_type": "code",
   "execution_count": 27,
   "metadata": {},
   "outputs": [
    {
     "name": "stdout",
     "output_type": "stream",
     "text": [
      "<class 'pandas.core.frame.DataFrame'>\n",
      "RangeIndex: 5283 entries, 0 to 5282\n",
      "Data columns (total 7 columns):\n",
      " #   Column             Non-Null Count  Dtype  \n",
      "---  ------             --------------  -----  \n",
      " 0   title              5283 non-null   object \n",
      " 1   type               5283 non-null   object \n",
      " 2   release_year       5283 non-null   int64  \n",
      " 3   age_certification  2998 non-null   object \n",
      " 4   runtime            5283 non-null   int64  \n",
      " 5   imdb_score         5283 non-null   float64\n",
      " 6   imdb_votes         5267 non-null   float64\n",
      "dtypes: float64(2), int64(2), object(3)\n",
      "memory usage: 289.0+ KB\n"
     ]
    }
   ],
   "source": [
    "# checking the data info\n",
    "netflix.info()"
   ]
  },
  {
   "cell_type": "markdown",
   "metadata": {},
   "source": [
    "with these code we can see that there are a total of 5283 data with a total of 7 column which include title, type, ,age_certification, runtime, imdb_score, and imdb_votes. the other info available here will be explained further below"
   ]
  },
  {
   "cell_type": "code",
   "execution_count": 28,
   "metadata": {},
   "outputs": [
    {
     "data": {
      "text/plain": [
       "title                5237\n",
       "type                    2\n",
       "release_year           66\n",
       "age_certification      11\n",
       "runtime               197\n",
       "imdb_score             81\n",
       "imdb_votes           3831\n",
       "dtype: int64"
      ]
     },
     "execution_count": 28,
     "metadata": {},
     "output_type": "execute_result"
    }
   ],
   "source": [
    "# Checking for unique value\n",
    "netflix.nunique()"
   ]
  },
  {
   "cell_type": "markdown",
   "metadata": {},
   "source": [
    "from this code we can see that there are 5237 titles despite there being 5283 entries. since title should have been unique per column, that means that there could be 46 duplicate title name. the other data seems to be normal so only the title will need to be cleaned"
   ]
  },
  {
   "cell_type": "code",
   "execution_count": 29,
   "metadata": {},
   "outputs": [
    {
     "data": {
      "text/plain": [
       "0"
      ]
     },
     "execution_count": 29,
     "metadata": {},
     "output_type": "execute_result"
    }
   ],
   "source": [
    "# double checking for data duplicate\n",
    "netflix.duplicated().sum()"
   ]
  },
  {
   "cell_type": "markdown",
   "metadata": {},
   "source": [
    "since there is no data duplicate no handling is needed"
   ]
  },
  {
   "cell_type": "code",
   "execution_count": 30,
   "metadata": {},
   "outputs": [
    {
     "data": {
      "text/plain": [
       "46"
      ]
     },
     "execution_count": 30,
     "metadata": {},
     "output_type": "execute_result"
    }
   ],
   "source": [
    "# checking for duplicate in title\n",
    "netflix.duplicated('title').sum()"
   ]
  },
  {
   "cell_type": "markdown",
   "metadata": {},
   "source": [
    "there is 46 duplicated title so we will need to handle the duplicate title by dropping the duplicate"
   ]
  },
  {
   "cell_type": "code",
   "execution_count": 31,
   "metadata": {},
   "outputs": [],
   "source": [
    "# dropping duplicate title\n",
    "netflix = netflix.drop_duplicates('title')"
   ]
  },
  {
   "cell_type": "markdown",
   "metadata": {},
   "source": [
    "this code is used to drop the duplicate title using the command drop_duplicates"
   ]
  },
  {
   "cell_type": "code",
   "execution_count": 32,
   "metadata": {},
   "outputs": [
    {
     "data": {
      "text/plain": [
       "0"
      ]
     },
     "execution_count": 32,
     "metadata": {},
     "output_type": "execute_result"
    }
   ],
   "source": [
    "# checking for duplicated in title (post removal)\n",
    "netflix.duplicated('title').sum()"
   ]
  },
  {
   "cell_type": "markdown",
   "metadata": {},
   "source": [
    "the duplicate handling worked and there is no longer a duplicate data"
   ]
  },
  {
   "cell_type": "code",
   "execution_count": 33,
   "metadata": {},
   "outputs": [
    {
     "data": {
      "text/plain": [
       "title                   0\n",
       "type                    0\n",
       "release_year            0\n",
       "age_certification    2267\n",
       "runtime                 0\n",
       "imdb_score              0\n",
       "imdb_votes             16\n",
       "dtype: int64"
      ]
     },
     "execution_count": 33,
     "metadata": {},
     "output_type": "execute_result"
    }
   ],
   "source": [
    "# checking for null values\n",
    "netflix.isnull().sum()"
   ]
  },
  {
   "cell_type": "markdown",
   "metadata": {},
   "source": [
    "in this code we can see that there is a total of 2267 null value in age_certification and a total of 16 null value in imdb_votes"
   ]
  },
  {
   "cell_type": "code",
   "execution_count": 34,
   "metadata": {},
   "outputs": [],
   "source": [
    "# filling missing value in age certification with the mode value\n",
    "netflix.age_certification = netflix.age_certification.fillna(netflix['age_certification'].mode()[0]) \n",
    "\n",
    "# filling missing value in imdb votes with the mean value\n",
    "netflix.imdb_votes = netflix.imdb_votes.fillna(netflix['imdb_votes'].median())"
   ]
  },
  {
   "cell_type": "markdown",
   "metadata": {},
   "source": [
    "in order to handle the null values we will fill the missing value of age certification with the mode due to it being a categorical value and we will fill the imdb votes null with median as the data is numerical and skewed (according to the calculation below)"
   ]
  },
  {
   "cell_type": "code",
   "execution_count": 35,
   "metadata": {},
   "outputs": [
    {
     "data": {
      "text/plain": [
       "title                0\n",
       "type                 0\n",
       "release_year         0\n",
       "age_certification    0\n",
       "runtime              0\n",
       "imdb_score           0\n",
       "imdb_votes           0\n",
       "dtype: int64"
      ]
     },
     "execution_count": 35,
     "metadata": {},
     "output_type": "execute_result"
    }
   ],
   "source": [
    "# Checking that the null value has been handled\n",
    "netflix.isnull().sum()"
   ]
  },
  {
   "cell_type": "markdown",
   "metadata": {},
   "source": [
    "with this code the null value has been successfully handled resulted in 0 null value"
   ]
  },
  {
   "cell_type": "code",
   "execution_count": 36,
   "metadata": {},
   "outputs": [
    {
     "data": {
      "text/plain": [
       "title                 object\n",
       "type                  object\n",
       "release_year           int64\n",
       "age_certification     object\n",
       "runtime                int64\n",
       "imdb_score           float64\n",
       "imdb_votes           float64\n",
       "dtype: object"
      ]
     },
     "execution_count": 36,
     "metadata": {},
     "output_type": "execute_result"
    }
   ],
   "source": [
    "# checking for the datatype\n",
    "netflix.dtypes"
   ]
  },
  {
   "cell_type": "markdown",
   "metadata": {},
   "source": [
    "according to this code all the data is in the correct data type except for the imdb_votes as an integer value should fit more with the data"
   ]
  },
  {
   "cell_type": "code",
   "execution_count": 37,
   "metadata": {},
   "outputs": [],
   "source": [
    "# change the imdb_votes from float to int\n",
    "netflix.imdb_votes = netflix['imdb_votes'].astype(int)"
   ]
  },
  {
   "cell_type": "markdown",
   "metadata": {},
   "source": [
    "this code is used to change the imdb_votes from a float to an integer using astype"
   ]
  },
  {
   "cell_type": "code",
   "execution_count": 38,
   "metadata": {},
   "outputs": [
    {
     "data": {
      "text/plain": [
       "title                 object\n",
       "type                  object\n",
       "release_year           int64\n",
       "age_certification     object\n",
       "runtime                int64\n",
       "imdb_score           float64\n",
       "imdb_votes             int32\n",
       "dtype: object"
      ]
     },
     "execution_count": 38,
     "metadata": {},
     "output_type": "execute_result"
    }
   ],
   "source": [
    "# checking the data type has been successfully changed\n",
    "netflix.dtypes"
   ]
  },
  {
   "cell_type": "markdown",
   "metadata": {},
   "source": [
    "with this code the data type of imdb_votes has been successfully changed"
   ]
  },
  {
   "cell_type": "code",
   "execution_count": 39,
   "metadata": {},
   "outputs": [
    {
     "name": "stdout",
     "output_type": "stream",
     "text": [
      "Skew for release year: -3.4183869804743408\n",
      "Skew for runtime: 0.13141916554649408\n",
      "Skew for imdb_score: -0.6613947021305858\n",
      "Skew for imdb_votes: 11.308003917254958\n"
     ]
    }
   ],
   "source": [
    "# checking skew for all integer and float value for outlier handling\n",
    "\n",
    "skew1 = netflix.release_year.skew()\n",
    "skew2 = netflix.runtime.skew()\n",
    "skew3 = netflix.imdb_score.skew()\n",
    "skew4 = netflix.imdb_votes.skew()\n",
    "\n",
    "# print all the result of skew\n",
    "print(f'Skew for release year: {skew1}')\n",
    "print(f'Skew for runtime: {skew2}')\n",
    "print(f'Skew for imdb_score: {skew3}')\n",
    "print(f'Skew for imdb_votes: {skew4}')"
   ]
  },
  {
   "cell_type": "markdown",
   "metadata": {},
   "source": [
    "with this code we check the skew distribution in order to check whether the data is normally distributed. if the data is normally distributed (-0.5 - 0.5) it will be handled with the z-score while if the data is skewed (<1 or >1) it will be handled with the tukey's rule"
   ]
  },
  {
   "cell_type": "code",
   "execution_count": 40,
   "metadata": {},
   "outputs": [
    {
     "name": "stdout",
     "output_type": "stream",
     "text": [
      "Percentage of outliers release year: 8.88%%\n",
      "Percentage of outliers runtime: 0.15%%\n",
      "Percentage of outliers imdb score: 1.22%%\n",
      "Percentage of outliers imdb votes: 15.26%%\n"
     ]
    }
   ],
   "source": [
    "# checking the outlier for release year\n",
    "q1a = netflix['release_year'].quantile(0.25)\n",
    "q3a = netflix['release_year'].quantile(0.75)\n",
    "iqr = q3a-q1a\n",
    "\n",
    "up_bound = q3a + 1.5*iqr\n",
    "low_bound = q1a - 1.5*iqr\n",
    "\n",
    "outlier1 = netflix['release_year'][(netflix['release_year']<low_bound) | (netflix['release_year']>up_bound)]\n",
    "no_outlier1 = netflix['release_year'][(netflix['release_year']>=low_bound) & (netflix['release_year']<=up_bound)]\n",
    "\n",
    "# print the outlier for release year\n",
    "print(f'Percentage of outliers release year: {len(outlier1)*100/len(netflix[\"release_year\"]):.2f}%%')\n",
    "\n",
    "#checking the outlier for runtime\n",
    "avg1 = netflix['runtime'].mean()\n",
    "std1 = netflix['runtime'].std()\n",
    "\n",
    "up_bound1 = avg1 + 3*std1\n",
    "low_bound1 = avg1 - 3*std1\n",
    "\n",
    "outlier2 = netflix['runtime'][(netflix['runtime']<low_bound1) | (netflix['runtime']>up_bound1)]\n",
    "no_outlier2 = netflix['runtime'][(netflix['runtime']>=low_bound1) & (netflix['runtime']<=up_bound1)]\n",
    "\n",
    "# print the outlier for runtime\n",
    "print(f'Percentage of outliers runtime: {len(outlier2)*100/len(netflix[\"runtime\"]):.2f}%%')\n",
    "\n",
    "#checking the outlier for imdb score\n",
    "q1b = netflix['imdb_score'].quantile(0.25)\n",
    "q3b = netflix['imdb_score'].quantile(0.75)\n",
    "iqr = q3b-q1b\n",
    "\n",
    "up_bound = q3b + 1.5*iqr\n",
    "low_bound = q1b - 1.5*iqr\n",
    "\n",
    "outlier3 = netflix['imdb_score'][(netflix['imdb_score']<low_bound) | (netflix['imdb_score']>up_bound)]\n",
    "no_outlier3 = netflix['imdb_score'][(netflix['imdb_score']>=low_bound) & (netflix['imdb_score']<=up_bound)]\n",
    "\n",
    "# print the outlier for imdb score\n",
    "print(f'Percentage of outliers imdb score: {len(outlier3)*100/len(netflix[\"imdb_score\"]):.2f}%%')\n",
    "\n",
    "#checking the outlier for imdb votes\n",
    "q1c = netflix['imdb_votes'].quantile(0.25)\n",
    "q3c = netflix['imdb_votes'].quantile(0.75)\n",
    "iqr = q3c-q1c\n",
    "\n",
    "up_bound = q3c + 1.5*iqr\n",
    "low_bound = q1c - 1.5*iqr\n",
    "\n",
    "outlier4 = netflix['imdb_votes'][(netflix['imdb_votes']<low_bound) | (netflix['imdb_votes']>up_bound)]\n",
    "no_outlier4 = netflix['imdb_votes'][(netflix['imdb_votes']>=low_bound) & (netflix['imdb_votes']<=up_bound)]\n",
    "\n",
    "# print the outlier for imdb votes\n",
    "print(f'Percentage of outliers imdb votes: {len(outlier4)*100/len(netflix[\"imdb_votes\"]):.2f}%%')\n",
    "\n"
   ]
  },
  {
   "cell_type": "markdown",
   "metadata": {},
   "source": [
    "with this code we see that runtime and imdb score can safely be dropped as the outlier percentage is under 5% while we include the release year and imdb votes as the outlier percentage is more than 5% as dropping these data would result in many data lost"
   ]
  },
  {
   "cell_type": "code",
   "execution_count": 41,
   "metadata": {},
   "outputs": [],
   "source": [
    "# including the release year into main table\n",
    "netflix = netflix.loc[(netflix['release_year']>=low_bound) & (netflix['release_year']<=up_bound)]"
   ]
  },
  {
   "cell_type": "markdown",
   "metadata": {},
   "source": [
    "with this code we include the data of release year with the no outlier into the main table  "
   ]
  },
  {
   "cell_type": "code",
   "execution_count": 42,
   "metadata": {},
   "outputs": [
    {
     "data": {
      "text/plain": [
       "Series([], Name: release_year, dtype: int64)"
      ]
     },
     "execution_count": 42,
     "metadata": {},
     "output_type": "execute_result"
    }
   ],
   "source": [
    "# checking that the outlier has been removed\n",
    "netflix['release_year'][(netflix['release_year']<low_bound) | (netflix['release_year']>up_bound)]"
   ]
  },
  {
   "cell_type": "markdown",
   "metadata": {},
   "source": [
    "with this code we check whether the outlier release year is still in the data. we expect an empty list for this code"
   ]
  },
  {
   "cell_type": "code",
   "execution_count": 43,
   "metadata": {},
   "outputs": [],
   "source": [
    "# including the imdb votes into main table\n",
    "netflix = netflix.loc[(netflix['imdb_votes']>=low_bound) & (netflix['imdb_votes']<=up_bound)]"
   ]
  },
  {
   "cell_type": "markdown",
   "metadata": {},
   "source": [
    "with this code we include the data of imdb votes with the no outlier into the main table"
   ]
  },
  {
   "cell_type": "code",
   "execution_count": 44,
   "metadata": {},
   "outputs": [
    {
     "data": {
      "text/plain": [
       "Series([], Name: imdb_votes, dtype: int32)"
      ]
     },
     "execution_count": 44,
     "metadata": {},
     "output_type": "execute_result"
    }
   ],
   "source": [
    "# checking that the outlier has been removed\n",
    "netflix['imdb_votes'][(netflix['imdb_votes']<low_bound) | (netflix['imdb_votes']>up_bound)]"
   ]
  },
  {
   "cell_type": "markdown",
   "metadata": {},
   "source": [
    "with this code we check whether the outlier imdb votes is still in the data. we expect an empty list for this code"
   ]
  },
  {
   "cell_type": "code",
   "execution_count": 45,
   "metadata": {},
   "outputs": [
    {
     "data": {
      "text/html": [
       "<div>\n",
       "<style scoped>\n",
       "    .dataframe tbody tr th:only-of-type {\n",
       "        vertical-align: middle;\n",
       "    }\n",
       "\n",
       "    .dataframe tbody tr th {\n",
       "        vertical-align: top;\n",
       "    }\n",
       "\n",
       "    .dataframe thead th {\n",
       "        text-align: right;\n",
       "    }\n",
       "</style>\n",
       "<table border=\"1\" class=\"dataframe\">\n",
       "  <thead>\n",
       "    <tr style=\"text-align: right;\">\n",
       "      <th></th>\n",
       "      <th>title</th>\n",
       "      <th>type</th>\n",
       "      <th>release_year</th>\n",
       "      <th>age_certification</th>\n",
       "      <th>runtime</th>\n",
       "      <th>imdb_score</th>\n",
       "      <th>imdb_votes</th>\n",
       "    </tr>\n",
       "  </thead>\n",
       "  <tbody>\n",
       "    <tr>\n",
       "      <th>0</th>\n",
       "      <td>The Professionals</td>\n",
       "      <td>MOVIE</td>\n",
       "      <td>1966</td>\n",
       "      <td>PG-13</td>\n",
       "      <td>117</td>\n",
       "      <td>7.3</td>\n",
       "      <td>16168</td>\n",
       "    </tr>\n",
       "    <tr>\n",
       "      <th>1</th>\n",
       "      <td>Richard Pryor: Live in Concert</td>\n",
       "      <td>MOVIE</td>\n",
       "      <td>1979</td>\n",
       "      <td>R</td>\n",
       "      <td>78</td>\n",
       "      <td>8.1</td>\n",
       "      <td>5141</td>\n",
       "    </tr>\n",
       "    <tr>\n",
       "      <th>2</th>\n",
       "      <td>The Long Riders</td>\n",
       "      <td>MOVIE</td>\n",
       "      <td>1980</td>\n",
       "      <td>R</td>\n",
       "      <td>99</td>\n",
       "      <td>6.9</td>\n",
       "      <td>11329</td>\n",
       "    </tr>\n",
       "    <tr>\n",
       "      <th>3</th>\n",
       "      <td>Cairo Station</td>\n",
       "      <td>MOVIE</td>\n",
       "      <td>1958</td>\n",
       "      <td>TV-MA</td>\n",
       "      <td>77</td>\n",
       "      <td>7.5</td>\n",
       "      <td>4385</td>\n",
       "    </tr>\n",
       "    <tr>\n",
       "      <th>4</th>\n",
       "      <td>The Queen</td>\n",
       "      <td>MOVIE</td>\n",
       "      <td>1968</td>\n",
       "      <td>TV-MA</td>\n",
       "      <td>68</td>\n",
       "      <td>7.2</td>\n",
       "      <td>1117</td>\n",
       "    </tr>\n",
       "    <tr>\n",
       "      <th>...</th>\n",
       "      <td>...</td>\n",
       "      <td>...</td>\n",
       "      <td>...</td>\n",
       "      <td>...</td>\n",
       "      <td>...</td>\n",
       "      <td>...</td>\n",
       "      <td>...</td>\n",
       "    </tr>\n",
       "    <tr>\n",
       "      <th>4433</th>\n",
       "      <td>Momshies! Your Soul is Mine</td>\n",
       "      <td>MOVIE</td>\n",
       "      <td>2021</td>\n",
       "      <td>TV-MA</td>\n",
       "      <td>108</td>\n",
       "      <td>5.8</td>\n",
       "      <td>26</td>\n",
       "    </tr>\n",
       "    <tr>\n",
       "      <th>4434</th>\n",
       "      <td>Fine Wine</td>\n",
       "      <td>MOVIE</td>\n",
       "      <td>2021</td>\n",
       "      <td>TV-MA</td>\n",
       "      <td>100</td>\n",
       "      <td>6.9</td>\n",
       "      <td>39</td>\n",
       "    </tr>\n",
       "    <tr>\n",
       "      <th>4435</th>\n",
       "      <td>Clash</td>\n",
       "      <td>MOVIE</td>\n",
       "      <td>2021</td>\n",
       "      <td>TV-MA</td>\n",
       "      <td>88</td>\n",
       "      <td>6.5</td>\n",
       "      <td>32</td>\n",
       "    </tr>\n",
       "    <tr>\n",
       "      <th>4436</th>\n",
       "      <td>Shadow Parties</td>\n",
       "      <td>MOVIE</td>\n",
       "      <td>2021</td>\n",
       "      <td>TV-MA</td>\n",
       "      <td>116</td>\n",
       "      <td>6.2</td>\n",
       "      <td>9</td>\n",
       "    </tr>\n",
       "    <tr>\n",
       "      <th>4437</th>\n",
       "      <td>Mighty Little Bheem: Kite Festival</td>\n",
       "      <td>SHOW</td>\n",
       "      <td>2021</td>\n",
       "      <td>TV-MA</td>\n",
       "      <td>0</td>\n",
       "      <td>8.8</td>\n",
       "      <td>16</td>\n",
       "    </tr>\n",
       "  </tbody>\n",
       "</table>\n",
       "<p>4438 rows × 7 columns</p>\n",
       "</div>"
      ],
      "text/plain": [
       "                                   title   type  release_year  \\\n",
       "0                      The Professionals  MOVIE          1966   \n",
       "1         Richard Pryor: Live in Concert  MOVIE          1979   \n",
       "2                        The Long Riders  MOVIE          1980   \n",
       "3                          Cairo Station  MOVIE          1958   \n",
       "4                              The Queen  MOVIE          1968   \n",
       "...                                  ...    ...           ...   \n",
       "4433         Momshies! Your Soul is Mine  MOVIE          2021   \n",
       "4434                           Fine Wine  MOVIE          2021   \n",
       "4435                               Clash  MOVIE          2021   \n",
       "4436                      Shadow Parties  MOVIE          2021   \n",
       "4437  Mighty Little Bheem: Kite Festival   SHOW          2021   \n",
       "\n",
       "     age_certification  runtime  imdb_score  imdb_votes  \n",
       "0                PG-13      117         7.3       16168  \n",
       "1                    R       78         8.1        5141  \n",
       "2                    R       99         6.9       11329  \n",
       "3                TV-MA       77         7.5        4385  \n",
       "4                TV-MA       68         7.2        1117  \n",
       "...                ...      ...         ...         ...  \n",
       "4433             TV-MA      108         5.8          26  \n",
       "4434             TV-MA      100         6.9          39  \n",
       "4435             TV-MA       88         6.5          32  \n",
       "4436             TV-MA      116         6.2           9  \n",
       "4437             TV-MA        0         8.8          16  \n",
       "\n",
       "[4438 rows x 7 columns]"
      ]
     },
     "execution_count": 45,
     "metadata": {},
     "output_type": "execute_result"
    }
   ],
   "source": [
    "# reseting the index for the main data after cleaning\n",
    "netflix = netflix.reset_index()\n",
    "\n",
    "# dropping the extra index table\n",
    "netflix.drop('index', axis=1, inplace=True)\n",
    "\n",
    "netflix\n"
   ]
  },
  {
   "cell_type": "markdown",
   "metadata": {},
   "source": [
    "in the last step we reset the index back to make the table cleaner. we also dropped the extra index table as it appeared during the cleaning"
   ]
  },
  {
   "cell_type": "code",
   "execution_count": 46,
   "metadata": {},
   "outputs": [],
   "source": [
    "# exporting the cleaned data to csv (for tableau)\n",
    "netflix.to_csv('Netflix TV Shows and Movies (cleaning).csv', index=False)"
   ]
  },
  {
   "cell_type": "markdown",
   "metadata": {},
   "source": [
    "in this step we export the cleaned data in the form of csv for our tableau calculation"
   ]
  },
  {
   "cell_type": "markdown",
   "metadata": {},
   "source": [
    "# Analysis"
   ]
  },
  {
   "cell_type": "markdown",
   "metadata": {},
   "source": [
    "After cleaning the data, we can move on to the analysis section. Our main objective in this step is to analyze ways to enhance Netflix movie catalogue average imdb score. we will do so by answering the questions that arise from the objective which include these questions:\n",
    "\n",
    "1. What film type have the highest average IMDB score? \n",
    "2. how many movies and shows was produced throught the year in the netfix catalogue? \n",
    "3. which age certification have the highest Imdb votes? \n",
    "4. What is the top 5 shows and films with the highest imdb rating\n",
    "5. do people prefer to watch older or newer film (pre and post 2000)? \n",
    "6. what is the spread of movies and shows runtime? \n",
    "7. do people rate longer runtime movie higher? "
   ]
  },
  {
   "cell_type": "markdown",
   "metadata": {},
   "source": [
    "# What film type have the highest average IMDB score?"
   ]
  },
  {
   "cell_type": "code",
   "execution_count": 47,
   "metadata": {},
   "outputs": [
    {
     "data": {
      "text/html": [
       "<div>\n",
       "<style scoped>\n",
       "    .dataframe tbody tr th:only-of-type {\n",
       "        vertical-align: middle;\n",
       "    }\n",
       "\n",
       "    .dataframe tbody tr th {\n",
       "        vertical-align: top;\n",
       "    }\n",
       "\n",
       "    .dataframe thead th {\n",
       "        text-align: right;\n",
       "    }\n",
       "</style>\n",
       "<table border=\"1\" class=\"dataframe\">\n",
       "  <thead>\n",
       "    <tr style=\"text-align: right;\">\n",
       "      <th></th>\n",
       "      <th>imdb_score</th>\n",
       "    </tr>\n",
       "    <tr>\n",
       "      <th>type</th>\n",
       "      <th></th>\n",
       "    </tr>\n",
       "  </thead>\n",
       "  <tbody>\n",
       "    <tr>\n",
       "      <th>SHOW</th>\n",
       "      <td>6.914539</td>\n",
       "    </tr>\n",
       "    <tr>\n",
       "      <th>MOVIE</th>\n",
       "      <td>6.177151</td>\n",
       "    </tr>\n",
       "  </tbody>\n",
       "</table>\n",
       "</div>"
      ],
      "text/plain": [
       "       imdb_score\n",
       "type             \n",
       "SHOW     6.914539\n",
       "MOVIE    6.177151"
      ]
     },
     "execution_count": 47,
     "metadata": {},
     "output_type": "execute_result"
    }
   ],
   "source": [
    "# finding the mean for the imdb_score grouped by the type of film\n",
    "Mean = netflix[['type', 'imdb_score']].groupby('type').mean().sort_values(['imdb_score'], ascending=[False])\n",
    "Mean"
   ]
  },
  {
   "cell_type": "code",
   "execution_count": 48,
   "metadata": {},
   "outputs": [
    {
     "data": {
      "text/plain": [
       "Text(0.5, 1.0, 'Average imdb score per film type')"
      ]
     },
     "execution_count": 48,
     "metadata": {},
     "output_type": "execute_result"
    },
    {
     "data": {
      "image/png": "[encoded data removed]",
      "text/plain": [
       "<Figure size 640x480 with 1 Axes>"
      ]
     },
     "metadata": {},
     "output_type": "display_data"
    }
   ],
   "source": [
    "# creating the pie chart for the mean foe the imdb_score\n",
    "plt.pie(Mean['imdb_score'], labels=Mean.index, autopct='%1.1f%%')\n",
    "plt.title('Average imdb score per film type')"
   ]
  },
  {
   "cell_type": "markdown",
   "metadata": {},
   "source": [
    "based on the pie chart we can get the following insights:\n",
    "\n",
    "● the film type show has a higher average imdb score than Movie\n",
    "\n",
    "● Both film type have almost similar imdb score\n",
    "\n",
    "with this insight we can see that the average movie imdb score is lower than the average imdb score of the shows. This means that Netflix need to focus in acquiring higher ranking movie rather than high ranking show"
   ]
  },
  {
   "cell_type": "markdown",
   "metadata": {},
   "source": [
    "# how many movies and shows was produced throught the year in the netfix catalogue?"
   ]
  },
  {
   "cell_type": "code",
   "execution_count": 49,
   "metadata": {},
   "outputs": [
    {
     "data": {
      "text/html": [
       "<div>\n",
       "<style scoped>\n",
       "    .dataframe tbody tr th:only-of-type {\n",
       "        vertical-align: middle;\n",
       "    }\n",
       "\n",
       "    .dataframe tbody tr th {\n",
       "        vertical-align: top;\n",
       "    }\n",
       "\n",
       "    .dataframe thead th {\n",
       "        text-align: right;\n",
       "    }\n",
       "</style>\n",
       "<table border=\"1\" class=\"dataframe\">\n",
       "  <thead>\n",
       "    <tr style=\"text-align: right;\">\n",
       "      <th>type</th>\n",
       "      <th>MOVIE</th>\n",
       "      <th>SHOW</th>\n",
       "    </tr>\n",
       "    <tr>\n",
       "      <th>release_year</th>\n",
       "      <th></th>\n",
       "      <th></th>\n",
       "    </tr>\n",
       "  </thead>\n",
       "  <tbody>\n",
       "    <tr>\n",
       "      <th>1953</th>\n",
       "      <td>1</td>\n",
       "      <td>0</td>\n",
       "    </tr>\n",
       "    <tr>\n",
       "      <th>1954</th>\n",
       "      <td>1</td>\n",
       "      <td>0</td>\n",
       "    </tr>\n",
       "    <tr>\n",
       "      <th>1956</th>\n",
       "      <td>1</td>\n",
       "      <td>0</td>\n",
       "    </tr>\n",
       "    <tr>\n",
       "      <th>1958</th>\n",
       "      <td>1</td>\n",
       "      <td>0</td>\n",
       "    </tr>\n",
       "    <tr>\n",
       "      <th>1959</th>\n",
       "      <td>1</td>\n",
       "      <td>0</td>\n",
       "    </tr>\n",
       "    <tr>\n",
       "      <th>...</th>\n",
       "      <td>...</td>\n",
       "      <td>...</td>\n",
       "    </tr>\n",
       "    <tr>\n",
       "      <th>2018</th>\n",
       "      <td>398</td>\n",
       "      <td>259</td>\n",
       "    </tr>\n",
       "    <tr>\n",
       "      <th>2019</th>\n",
       "      <td>416</td>\n",
       "      <td>253</td>\n",
       "    </tr>\n",
       "    <tr>\n",
       "      <th>2020</th>\n",
       "      <td>359</td>\n",
       "      <td>226</td>\n",
       "    </tr>\n",
       "    <tr>\n",
       "      <th>2021</th>\n",
       "      <td>366</td>\n",
       "      <td>252</td>\n",
       "    </tr>\n",
       "    <tr>\n",
       "      <th>2022</th>\n",
       "      <td>84</td>\n",
       "      <td>85</td>\n",
       "    </tr>\n",
       "  </tbody>\n",
       "</table>\n",
       "<p>63 rows × 2 columns</p>\n",
       "</div>"
      ],
      "text/plain": [
       "type          MOVIE  SHOW\n",
       "release_year             \n",
       "1953              1     0\n",
       "1954              1     0\n",
       "1956              1     0\n",
       "1958              1     0\n",
       "1959              1     0\n",
       "...             ...   ...\n",
       "2018            398   259\n",
       "2019            416   253\n",
       "2020            359   226\n",
       "2021            366   252\n",
       "2022             84    85\n",
       "\n",
       "[63 rows x 2 columns]"
      ]
     },
     "execution_count": 49,
     "metadata": {},
     "output_type": "execute_result"
    }
   ],
   "source": [
    "# calculating the amount of film type released per year\n",
    "Count = netflix.groupby(['release_year', 'type']).size().unstack(fill_value=0)\n",
    "Count"
   ]
  },
  {
   "cell_type": "code",
   "execution_count": 50,
   "metadata": {},
   "outputs": [
    {
     "data": {
      "text/plain": [
       "Text(0, 0.5, 'Movies and Shows')"
      ]
     },
     "execution_count": 50,
     "metadata": {},
     "output_type": "execute_result"
    },
    {
     "data": {
      "image/png": "[encoded data removed]",
      "text/plain": [
       "<Figure size 640x480 with 1 Axes>"
      ]
     },
     "metadata": {},
     "output_type": "display_data"
    }
   ],
   "source": [
    "# creating the line chart for both movie and show\n",
    "Count.plot(kind='line')\n",
    "plt.title('Netflix Movies and shows catalogue release year')\n",
    "plt.xlabel('Years')\n",
    "plt.ylabel('Movies and Shows')"
   ]
  },
  {
   "cell_type": "markdown",
   "metadata": {},
   "source": [
    "based on the line chart we could get the following insight:\n",
    "\n",
    "● we can see that overall netflix has acquired more movie compared to shows\n",
    "\n",
    "● Netflix acquired many movies and shows released around the year 2019\n",
    "\n",
    "● Netflix did not acquire much movie or show made before 2012\n",
    "\n",
    "● Netflix acquired almost the same amount of movie and show released at the year 2022\n",
    "\n",
    "with this insight we can see that netflix prefer to acquire more recent movies and shows. Netflix could perhaps try to acquire a more balance selection of movie released on multiple years instead of acquiring mostly movie around 2019"
   ]
  },
  {
   "cell_type": "markdown",
   "metadata": {},
   "source": [
    "# which age_certification have the highest Imdb votes?"
   ]
  },
  {
   "cell_type": "code",
   "execution_count": 51,
   "metadata": {},
   "outputs": [
    {
     "data": {
      "text/html": [
       "<div>\n",
       "<style scoped>\n",
       "    .dataframe tbody tr th:only-of-type {\n",
       "        vertical-align: middle;\n",
       "    }\n",
       "\n",
       "    .dataframe tbody tr th {\n",
       "        vertical-align: top;\n",
       "    }\n",
       "\n",
       "    .dataframe thead th {\n",
       "        text-align: right;\n",
       "    }\n",
       "</style>\n",
       "<table border=\"1\" class=\"dataframe\">\n",
       "  <thead>\n",
       "    <tr style=\"text-align: right;\">\n",
       "      <th></th>\n",
       "      <th>imdb_votes</th>\n",
       "    </tr>\n",
       "    <tr>\n",
       "      <th>age_certification</th>\n",
       "      <th></th>\n",
       "    </tr>\n",
       "  </thead>\n",
       "  <tbody>\n",
       "    <tr>\n",
       "      <th>G</th>\n",
       "      <td>23076</td>\n",
       "    </tr>\n",
       "    <tr>\n",
       "      <th>NC-17</th>\n",
       "      <td>14501</td>\n",
       "    </tr>\n",
       "    <tr>\n",
       "      <th>PG</th>\n",
       "      <td>23917</td>\n",
       "    </tr>\n",
       "    <tr>\n",
       "      <th>PG-13</th>\n",
       "      <td>24319</td>\n",
       "    </tr>\n",
       "    <tr>\n",
       "      <th>R</th>\n",
       "      <td>24063</td>\n",
       "    </tr>\n",
       "    <tr>\n",
       "      <th>TV-14</th>\n",
       "      <td>24142</td>\n",
       "    </tr>\n",
       "    <tr>\n",
       "      <th>TV-G</th>\n",
       "      <td>24224</td>\n",
       "    </tr>\n",
       "    <tr>\n",
       "      <th>TV-MA</th>\n",
       "      <td>24046</td>\n",
       "    </tr>\n",
       "    <tr>\n",
       "      <th>TV-PG</th>\n",
       "      <td>24164</td>\n",
       "    </tr>\n",
       "    <tr>\n",
       "      <th>TV-Y</th>\n",
       "      <td>20888</td>\n",
       "    </tr>\n",
       "    <tr>\n",
       "      <th>TV-Y7</th>\n",
       "      <td>21949</td>\n",
       "    </tr>\n",
       "  </tbody>\n",
       "</table>\n",
       "</div>"
      ],
      "text/plain": [
       "                   imdb_votes\n",
       "age_certification            \n",
       "G                       23076\n",
       "NC-17                   14501\n",
       "PG                      23917\n",
       "PG-13                   24319\n",
       "R                       24063\n",
       "TV-14                   24142\n",
       "TV-G                    24224\n",
       "TV-MA                   24046\n",
       "TV-PG                   24164\n",
       "TV-Y                    20888\n",
       "TV-Y7                   21949"
      ]
     },
     "execution_count": 51,
     "metadata": {},
     "output_type": "execute_result"
    }
   ],
   "source": [
    "# calculating the imdb_votes grouped by age_certification\n",
    "Age = netflix[['age_certification', 'imdb_votes']].groupby('age_certification').max()\n",
    "Age"
   ]
  },
  {
   "cell_type": "code",
   "execution_count": 52,
   "metadata": {},
   "outputs": [
    {
     "data": {
      "text/plain": [
       "Text(0, 0.5, 'imdb votes')"
      ]
     },
     "execution_count": 52,
     "metadata": {},
     "output_type": "execute_result"
    },
    {
     "data": {
      "image/png": "[encoded data removed]",
      "text/plain": [
       "<Figure size 640x480 with 1 Axes>"
      ]
     },
     "metadata": {},
     "output_type": "display_data"
    }
   ],
   "source": [
    "# creating the bar chart\n",
    "Age.plot(kind='bar')\n",
    "plt.title('imdb votes per age certification')\n",
    "plt.xlabel('age certification')\n",
    "plt.ylabel('imdb votes')"
   ]
  },
  {
   "cell_type": "markdown",
   "metadata": {},
   "source": [
    "based on the bar chart we can get the following insights:\n",
    "\n",
    "● imdb max votes is mostly equal on all age certification except for the certification NC-17\n",
    "\n",
    "● movies certification with the lowest maximum imdb votes is NC-17\n",
    "\n",
    "● show certification with the lowest maximum imdb votes is TV-Y\n",
    "\n",
    "based on this insight we can see that the overall amount of votes are equal with the film type movie NC-17 having the least votes. This means that people Netflix users is not that interested in movies with NC-17 rating so they could focus less on it"
   ]
  },
  {
   "cell_type": "markdown",
   "metadata": {},
   "source": [
    "# What is the top 5 shows and films with the highest imdb rating"
   ]
  },
  {
   "cell_type": "code",
   "execution_count": 53,
   "metadata": {},
   "outputs": [
    {
     "name": "stdout",
     "output_type": "stream",
     "text": [
      "                                     title  imdb_score\n",
      "2075                     C/o Kancharapalem         9.0\n",
      "12                          No Longer Kids         9.0\n",
      "532   Chhota Bheem & Krishna in Mayanagari         9.0\n",
      "3381                   Sky Tour: The Movie         8.8\n",
      "268                    A Lion in the House         8.7\n",
      "                    title  imdb_score\n",
      "2176             #ABtalks         9.6\n",
      "388              Khawatir         9.6\n",
      "896            Reply 1988         9.2\n",
      "3807  Who Rules The World         9.2\n",
      "1378            My Mister         9.2\n"
     ]
    }
   ],
   "source": [
    "# calculating the top 5 film from the type movie and show \n",
    "movies = netflix[netflix['type'] == 'MOVIE']\n",
    "shows = netflix[netflix['type'] == 'SHOW']\n",
    "\n",
    "top5_movies = movies.sort_values(by='imdb_score', ascending=False).head(5)\n",
    "top5_shows = shows.sort_values(by='imdb_score', ascending=False).head(5)\n",
    "\n",
    "top5_moviesscore = top5_movies[['title','imdb_score']]\n",
    "top5_showsscore = top5_shows[['title','imdb_score']]\n",
    "\n",
    "print(top5_moviesscore)\n",
    "print(top5_showsscore)"
   ]
  },
  {
   "cell_type": "code",
   "execution_count": 54,
   "metadata": {},
   "outputs": [
    {
     "data": {
      "text/plain": [
       "Text(0.5, 1.0, 'Top-5 highest rated movies ')"
      ]
     },
     "execution_count": 54,
     "metadata": {},
     "output_type": "execute_result"
    },
    {
     "data": {
      "image/png": "[encoded data removed]",
      "text/plain": [
       "<Figure size 640x480 with 1 Axes>"
      ]
     },
     "metadata": {},
     "output_type": "display_data"
    }
   ],
   "source": [
    "# creating the bar chart for the top 5 highest rated movies\n",
    "plt.figure()\n",
    "sns.barplot(x='imdb_score', y='title', data=top5_moviesscore)\n",
    "plt.title('Top-5 highest rated movies ')"
   ]
  },
  {
   "cell_type": "code",
   "execution_count": 55,
   "metadata": {},
   "outputs": [
    {
     "data": {
      "text/plain": [
       "Text(0.5, 1.0, 'Top-5 highest rated shows ')"
      ]
     },
     "execution_count": 55,
     "metadata": {},
     "output_type": "execute_result"
    },
    {
     "data": {
      "image/png": "[encoded data removed]",
      "text/plain": [
       "<Figure size 640x480 with 1 Axes>"
      ]
     },
     "metadata": {},
     "output_type": "display_data"
    }
   ],
   "source": [
    "# creating the bar chart for the top 5 highest rated shows\n",
    "plt.figure()\n",
    "sns.barplot(x='imdb_score', y='title', data=top5_showsscore)\n",
    "plt.title('Top-5 highest rated shows ')"
   ]
  },
  {
   "cell_type": "markdown",
   "metadata": {},
   "source": [
    "based on the bar charts we can get the following insights:\n",
    "\n",
    "● shows has an overall highest rating at 9.6 compared to movies 9.0\n",
    "\n",
    "● Both show and movie has a high maximum rating of around 9\n",
    "\n",
    "● overall there is almost no difference between the highest rated movies and shows\n",
    "\n",
    "based on this insight we can see that overall the highest ranked movies and films are quiet similar only differing a small amount based on the top 5 ranking. in order to increase rating we need to identify what makes these films have such a high ranking perhaps due to its genre or popularity among fans"
   ]
  },
  {
   "cell_type": "markdown",
   "metadata": {},
   "source": [
    "# do people prefer to watch older or newer film (pre and post 2000)? "
   ]
  },
  {
   "cell_type": "markdown",
   "metadata": {},
   "source": [
    "In order to answer this questions we will make the following hypotheses which will be answered below:\n",
    "\n",
    "H0:average view count for older films == new films\n",
    "\n",
    "H1:average view count for older films != new films"
   ]
  },
  {
   "cell_type": "code",
   "execution_count": 56,
   "metadata": {},
   "outputs": [],
   "source": [
    "# defining the value of old and new films\n",
    "old_films = netflix[netflix['release_year'] <= 2000][['title', 'imdb_votes']].groupby(['title']).sum() \n",
    "new_films = netflix[netflix['release_year'] > 2000][['title', 'imdb_votes']].groupby(['title']).sum() \n"
   ]
  },
  {
   "cell_type": "code",
   "execution_count": 57,
   "metadata": {},
   "outputs": [
    {
     "name": "stdout",
     "output_type": "stream",
     "text": [
      "T-Statistic: -0.19078724504954708\n",
      "P-value: 0.8487010127946437\n"
     ]
    }
   ],
   "source": [
    "#calculating the t statistics and p value \n",
    "t_stat, p_val = stats.ttest_ind(old_films['imdb_votes'],new_films['imdb_votes'])\n",
    "print('T-Statistic:',t_stat)\n",
    "print('P-value:',p_val) "
   ]
  },
  {
   "cell_type": "markdown",
   "metadata": {},
   "source": [
    "based on the two sampled t-test we can get the following insights:\n",
    "\n",
    "● people either prefer to watch old films or new films a bit less than the other by a small margin\n",
    "\n",
    "● the p value is more than the usual critical value of 0.05/5% meaning we fail to reject the null hypothesis\n",
    "\n",
    "● in conclusion it means that people dont have a preference on watching old to newer films\n",
    "\n",
    "based on this insight we can conclude that there are no significant difference between people preference to old or new film. So netflix could also try to branch to acquire older film as the customer preference are the same regardless.\n"
   ]
  },
  {
   "cell_type": "markdown",
   "metadata": {},
   "source": [
    "# what is the spread of movies and shows runtime?"
   ]
  },
  {
   "cell_type": "code",
   "execution_count": 58,
   "metadata": {},
   "outputs": [
    {
     "name": "stdout",
     "output_type": "stream",
     "text": [
      "Min: 0\n",
      "Q1: 45.0\n",
      "Q2: 82.0\n",
      "Q3: 103.0\n",
      "Interquartile Range (IQR): 58.0\n",
      "Max: 235\n"
     ]
    }
   ],
   "source": [
    "# calculating the quantile of the shows runtime\n",
    "min_value = netflix['runtime'].min()\n",
    "q1d = netflix['runtime'].quantile(0.25)\n",
    "q2d = netflix['runtime'].quantile(0.5)\n",
    "q3d = netflix['runtime'].quantile(0.75)\n",
    "max_value = netflix['runtime'].max()\n",
    "\n",
    "iqr = q3d - q1d\n",
    "print('Min:',min_value)\n",
    "print('Q1:',q1d)\n",
    "print('Q2:',q2d)\n",
    "print('Q3:',q3d)\n",
    "print('Interquartile Range (IQR):',iqr)\n",
    "print('Max:',max_value)"
   ]
  },
  {
   "cell_type": "code",
   "execution_count": 59,
   "metadata": {},
   "outputs": [
    {
     "data": {
      "image/png": "[encoded data removed]",
      "text/plain": [
       "<Figure size 600x400 with 1 Axes>"
      ]
     },
     "metadata": {},
     "output_type": "display_data"
    }
   ],
   "source": [
    "#creating the box plot \n",
    "plt.figure(figsize=(6, 4))\n",
    "plt.boxplot(netflix['runtime'], vert=False, patch_artist=True)\n",
    "\n",
    "plt.annotate(f'Q1 = {q1d}', xy=(q1d, 1.06), xytext=(q1d, 1.2), arrowprops=dict(facecolor='black', arrowstyle='->'))\n",
    "plt.annotate(f'Q2 = {q2d}', xy=(q2d, 1.06), xytext=(q2d, 1.3), arrowprops=dict(facecolor='black', arrowstyle='->'))\n",
    "plt.annotate(f'Q3 = {q3d}', xy=(q3d, 1.06), xytext=(q3d, 1.2), arrowprops=dict(facecolor='black', arrowstyle='->'))\n",
    "plt.annotate(f'IQR = {iqr}', xy=((q1d+q3d)/2, 0.85), ha='center')\n",
    "\n",
    "plt.axvline(q1d, linestyle='--', color='gray', label='Q1')\n",
    "plt.axvline(q3d, linestyle='--', color='gray', label='Q3')\n",
    "plt.axvspan(q1d, q3d, alpha=0.2, color='gray', label='IQR')\n",
    "\n",
    "plt.xlabel('film runtime')\n",
    "plt.title('Boxplot of film runtime')\n",
    "\n",
    "plt.show()"
   ]
  },
  {
   "cell_type": "markdown",
   "metadata": {},
   "source": [
    "based on the boxplot we can get the following insights:\n",
    "\n",
    "● from Q1 we can see that 25% of the movie and show have a run time less than 45 minutes\n",
    "\n",
    "● from Q2 we can see that 50% of the movie and show have a run time less than 82 minutes\n",
    "\n",
    "● from Q3 we can see that 75% of the movie and show have a run time less than 103 minutes\n",
    "\n",
    "● there exists outliers that exceed the max value of the whiskers\n",
    "\n",
    "From this insight we can see that most movie and tv shows falls on a runtime between 45-103 minutes. This is helpfull for the next question where we will see whether higher runtime affect a movie or show's rating"
   ]
  },
  {
   "cell_type": "markdown",
   "metadata": {},
   "source": [
    "# do people rate longer runtime movie higher?\n"
   ]
  },
  {
   "cell_type": "markdown",
   "metadata": {},
   "source": [
    "In order to answer this questions we will make the following hypotheses which will be answered below:\n",
    "\n",
    "H0: there is no relationship between runtime and rating \n",
    "\n",
    "H1: there is relationship between runtime and rating"
   ]
  },
  {
   "cell_type": "code",
   "execution_count": 60,
   "metadata": {},
   "outputs": [
    {
     "name": "stdout",
     "output_type": "stream",
     "text": [
      "P-value: 2.3979574796980597e-18\n"
     ]
    }
   ],
   "source": [
    "# creating the contingency table and calculating the p-value\n",
    "contingency_table = pd.crosstab(netflix['runtime'],netflix['imdb_score']) #membuat contingency table\n",
    "pval = stats.chi2_contingency(contingency_table) # menghitung p value dari chi square\n",
    "print(\"P-value:\",pval.pvalue)"
   ]
  },
  {
   "cell_type": "code",
   "execution_count": 61,
   "metadata": {},
   "outputs": [
    {
     "data": {
      "text/html": [
       "<div>\n",
       "<style scoped>\n",
       "    .dataframe tbody tr th:only-of-type {\n",
       "        vertical-align: middle;\n",
       "    }\n",
       "\n",
       "    .dataframe tbody tr th {\n",
       "        vertical-align: top;\n",
       "    }\n",
       "\n",
       "    .dataframe thead th {\n",
       "        text-align: right;\n",
       "    }\n",
       "</style>\n",
       "<table border=\"1\" class=\"dataframe\">\n",
       "  <thead>\n",
       "    <tr style=\"text-align: right;\">\n",
       "      <th>imdb_score</th>\n",
       "      <th>1.5</th>\n",
       "      <th>1.6</th>\n",
       "      <th>1.7</th>\n",
       "      <th>1.9</th>\n",
       "      <th>2.0</th>\n",
       "      <th>2.1</th>\n",
       "      <th>2.2</th>\n",
       "      <th>2.3</th>\n",
       "      <th>2.4</th>\n",
       "      <th>2.5</th>\n",
       "      <th>...</th>\n",
       "      <th>8.3</th>\n",
       "      <th>8.4</th>\n",
       "      <th>8.5</th>\n",
       "      <th>8.6</th>\n",
       "      <th>8.7</th>\n",
       "      <th>8.8</th>\n",
       "      <th>8.9</th>\n",
       "      <th>9.0</th>\n",
       "      <th>9.2</th>\n",
       "      <th>9.6</th>\n",
       "    </tr>\n",
       "    <tr>\n",
       "      <th>runtime</th>\n",
       "      <th></th>\n",
       "      <th></th>\n",
       "      <th></th>\n",
       "      <th></th>\n",
       "      <th></th>\n",
       "      <th></th>\n",
       "      <th></th>\n",
       "      <th></th>\n",
       "      <th></th>\n",
       "      <th></th>\n",
       "      <th></th>\n",
       "      <th></th>\n",
       "      <th></th>\n",
       "      <th></th>\n",
       "      <th></th>\n",
       "      <th></th>\n",
       "      <th></th>\n",
       "      <th></th>\n",
       "      <th></th>\n",
       "      <th></th>\n",
       "      <th></th>\n",
       "    </tr>\n",
       "  </thead>\n",
       "  <tbody>\n",
       "    <tr>\n",
       "      <th>0</th>\n",
       "      <td>0</td>\n",
       "      <td>0</td>\n",
       "      <td>0</td>\n",
       "      <td>0</td>\n",
       "      <td>0</td>\n",
       "      <td>0</td>\n",
       "      <td>0</td>\n",
       "      <td>0</td>\n",
       "      <td>0</td>\n",
       "      <td>0</td>\n",
       "      <td>...</td>\n",
       "      <td>0</td>\n",
       "      <td>1</td>\n",
       "      <td>0</td>\n",
       "      <td>1</td>\n",
       "      <td>0</td>\n",
       "      <td>1</td>\n",
       "      <td>0</td>\n",
       "      <td>0</td>\n",
       "      <td>0</td>\n",
       "      <td>0</td>\n",
       "    </tr>\n",
       "    <tr>\n",
       "      <th>2</th>\n",
       "      <td>0</td>\n",
       "      <td>0</td>\n",
       "      <td>0</td>\n",
       "      <td>0</td>\n",
       "      <td>0</td>\n",
       "      <td>0</td>\n",
       "      <td>0</td>\n",
       "      <td>0</td>\n",
       "      <td>0</td>\n",
       "      <td>0</td>\n",
       "      <td>...</td>\n",
       "      <td>0</td>\n",
       "      <td>1</td>\n",
       "      <td>0</td>\n",
       "      <td>0</td>\n",
       "      <td>0</td>\n",
       "      <td>0</td>\n",
       "      <td>0</td>\n",
       "      <td>0</td>\n",
       "      <td>0</td>\n",
       "      <td>0</td>\n",
       "    </tr>\n",
       "    <tr>\n",
       "      <th>3</th>\n",
       "      <td>0</td>\n",
       "      <td>0</td>\n",
       "      <td>0</td>\n",
       "      <td>0</td>\n",
       "      <td>0</td>\n",
       "      <td>0</td>\n",
       "      <td>0</td>\n",
       "      <td>0</td>\n",
       "      <td>0</td>\n",
       "      <td>0</td>\n",
       "      <td>...</td>\n",
       "      <td>1</td>\n",
       "      <td>1</td>\n",
       "      <td>0</td>\n",
       "      <td>0</td>\n",
       "      <td>0</td>\n",
       "      <td>0</td>\n",
       "      <td>0</td>\n",
       "      <td>0</td>\n",
       "      <td>0</td>\n",
       "      <td>0</td>\n",
       "    </tr>\n",
       "    <tr>\n",
       "      <th>4</th>\n",
       "      <td>0</td>\n",
       "      <td>0</td>\n",
       "      <td>0</td>\n",
       "      <td>0</td>\n",
       "      <td>0</td>\n",
       "      <td>0</td>\n",
       "      <td>0</td>\n",
       "      <td>0</td>\n",
       "      <td>0</td>\n",
       "      <td>0</td>\n",
       "      <td>...</td>\n",
       "      <td>0</td>\n",
       "      <td>0</td>\n",
       "      <td>0</td>\n",
       "      <td>0</td>\n",
       "      <td>0</td>\n",
       "      <td>0</td>\n",
       "      <td>0</td>\n",
       "      <td>0</td>\n",
       "      <td>0</td>\n",
       "      <td>0</td>\n",
       "    </tr>\n",
       "    <tr>\n",
       "      <th>5</th>\n",
       "      <td>0</td>\n",
       "      <td>0</td>\n",
       "      <td>0</td>\n",
       "      <td>0</td>\n",
       "      <td>0</td>\n",
       "      <td>0</td>\n",
       "      <td>0</td>\n",
       "      <td>0</td>\n",
       "      <td>0</td>\n",
       "      <td>0</td>\n",
       "      <td>...</td>\n",
       "      <td>0</td>\n",
       "      <td>0</td>\n",
       "      <td>0</td>\n",
       "      <td>1</td>\n",
       "      <td>0</td>\n",
       "      <td>0</td>\n",
       "      <td>0</td>\n",
       "      <td>0</td>\n",
       "      <td>0</td>\n",
       "      <td>0</td>\n",
       "    </tr>\n",
       "    <tr>\n",
       "      <th>...</th>\n",
       "      <td>...</td>\n",
       "      <td>...</td>\n",
       "      <td>...</td>\n",
       "      <td>...</td>\n",
       "      <td>...</td>\n",
       "      <td>...</td>\n",
       "      <td>...</td>\n",
       "      <td>...</td>\n",
       "      <td>...</td>\n",
       "      <td>...</td>\n",
       "      <td>...</td>\n",
       "      <td>...</td>\n",
       "      <td>...</td>\n",
       "      <td>...</td>\n",
       "      <td>...</td>\n",
       "      <td>...</td>\n",
       "      <td>...</td>\n",
       "      <td>...</td>\n",
       "      <td>...</td>\n",
       "      <td>...</td>\n",
       "      <td>...</td>\n",
       "    </tr>\n",
       "    <tr>\n",
       "      <th>192</th>\n",
       "      <td>0</td>\n",
       "      <td>0</td>\n",
       "      <td>0</td>\n",
       "      <td>0</td>\n",
       "      <td>0</td>\n",
       "      <td>0</td>\n",
       "      <td>0</td>\n",
       "      <td>0</td>\n",
       "      <td>0</td>\n",
       "      <td>0</td>\n",
       "      <td>...</td>\n",
       "      <td>0</td>\n",
       "      <td>0</td>\n",
       "      <td>0</td>\n",
       "      <td>0</td>\n",
       "      <td>0</td>\n",
       "      <td>0</td>\n",
       "      <td>0</td>\n",
       "      <td>0</td>\n",
       "      <td>0</td>\n",
       "      <td>0</td>\n",
       "    </tr>\n",
       "    <tr>\n",
       "      <th>193</th>\n",
       "      <td>0</td>\n",
       "      <td>0</td>\n",
       "      <td>0</td>\n",
       "      <td>0</td>\n",
       "      <td>0</td>\n",
       "      <td>0</td>\n",
       "      <td>0</td>\n",
       "      <td>0</td>\n",
       "      <td>0</td>\n",
       "      <td>0</td>\n",
       "      <td>...</td>\n",
       "      <td>0</td>\n",
       "      <td>0</td>\n",
       "      <td>0</td>\n",
       "      <td>0</td>\n",
       "      <td>0</td>\n",
       "      <td>0</td>\n",
       "      <td>0</td>\n",
       "      <td>0</td>\n",
       "      <td>0</td>\n",
       "      <td>0</td>\n",
       "    </tr>\n",
       "    <tr>\n",
       "      <th>206</th>\n",
       "      <td>0</td>\n",
       "      <td>0</td>\n",
       "      <td>0</td>\n",
       "      <td>0</td>\n",
       "      <td>0</td>\n",
       "      <td>0</td>\n",
       "      <td>0</td>\n",
       "      <td>0</td>\n",
       "      <td>0</td>\n",
       "      <td>0</td>\n",
       "      <td>...</td>\n",
       "      <td>0</td>\n",
       "      <td>0</td>\n",
       "      <td>0</td>\n",
       "      <td>0</td>\n",
       "      <td>0</td>\n",
       "      <td>0</td>\n",
       "      <td>0</td>\n",
       "      <td>0</td>\n",
       "      <td>0</td>\n",
       "      <td>0</td>\n",
       "    </tr>\n",
       "    <tr>\n",
       "      <th>225</th>\n",
       "      <td>0</td>\n",
       "      <td>0</td>\n",
       "      <td>0</td>\n",
       "      <td>0</td>\n",
       "      <td>0</td>\n",
       "      <td>0</td>\n",
       "      <td>0</td>\n",
       "      <td>0</td>\n",
       "      <td>0</td>\n",
       "      <td>0</td>\n",
       "      <td>...</td>\n",
       "      <td>0</td>\n",
       "      <td>0</td>\n",
       "      <td>0</td>\n",
       "      <td>0</td>\n",
       "      <td>1</td>\n",
       "      <td>0</td>\n",
       "      <td>0</td>\n",
       "      <td>0</td>\n",
       "      <td>0</td>\n",
       "      <td>0</td>\n",
       "    </tr>\n",
       "    <tr>\n",
       "      <th>235</th>\n",
       "      <td>0</td>\n",
       "      <td>0</td>\n",
       "      <td>0</td>\n",
       "      <td>0</td>\n",
       "      <td>0</td>\n",
       "      <td>0</td>\n",
       "      <td>0</td>\n",
       "      <td>0</td>\n",
       "      <td>0</td>\n",
       "      <td>0</td>\n",
       "      <td>...</td>\n",
       "      <td>0</td>\n",
       "      <td>0</td>\n",
       "      <td>0</td>\n",
       "      <td>0</td>\n",
       "      <td>0</td>\n",
       "      <td>0</td>\n",
       "      <td>0</td>\n",
       "      <td>1</td>\n",
       "      <td>0</td>\n",
       "      <td>0</td>\n",
       "    </tr>\n",
       "  </tbody>\n",
       "</table>\n",
       "<p>188 rows × 77 columns</p>\n",
       "</div>"
      ],
      "text/plain": [
       "imdb_score  1.5  1.6  1.7  1.9  2.0  2.1  2.2  2.3  2.4  2.5  ...  8.3  8.4  \\\n",
       "runtime                                                       ...             \n",
       "0             0    0    0    0    0    0    0    0    0    0  ...    0    1   \n",
       "2             0    0    0    0    0    0    0    0    0    0  ...    0    1   \n",
       "3             0    0    0    0    0    0    0    0    0    0  ...    1    1   \n",
       "4             0    0    0    0    0    0    0    0    0    0  ...    0    0   \n",
       "5             0    0    0    0    0    0    0    0    0    0  ...    0    0   \n",
       "...         ...  ...  ...  ...  ...  ...  ...  ...  ...  ...  ...  ...  ...   \n",
       "192           0    0    0    0    0    0    0    0    0    0  ...    0    0   \n",
       "193           0    0    0    0    0    0    0    0    0    0  ...    0    0   \n",
       "206           0    0    0    0    0    0    0    0    0    0  ...    0    0   \n",
       "225           0    0    0    0    0    0    0    0    0    0  ...    0    0   \n",
       "235           0    0    0    0    0    0    0    0    0    0  ...    0    0   \n",
       "\n",
       "imdb_score  8.5  8.6  8.7  8.8  8.9  9.0  9.2  9.6  \n",
       "runtime                                             \n",
       "0             0    1    0    1    0    0    0    0  \n",
       "2             0    0    0    0    0    0    0    0  \n",
       "3             0    0    0    0    0    0    0    0  \n",
       "4             0    0    0    0    0    0    0    0  \n",
       "5             0    1    0    0    0    0    0    0  \n",
       "...         ...  ...  ...  ...  ...  ...  ...  ...  \n",
       "192           0    0    0    0    0    0    0    0  \n",
       "193           0    0    0    0    0    0    0    0  \n",
       "206           0    0    0    0    0    0    0    0  \n",
       "225           0    0    1    0    0    0    0    0  \n",
       "235           0    0    0    0    0    1    0    0  \n",
       "\n",
       "[188 rows x 77 columns]"
      ]
     },
     "execution_count": 61,
     "metadata": {},
     "output_type": "execute_result"
    }
   ],
   "source": [
    "contingency_table"
   ]
  },
  {
   "cell_type": "markdown",
   "metadata": {},
   "source": [
    "based on the chi square test we can get the following insights:\n",
    "\n",
    "● the p value is less than the usual critical value of 0.05 meaning we reject the null hypothese\n",
    "\n",
    "based on this insight we can see that there is a relationship between a movie or show runtime with the rating it gets. this mean that higher runtime could potentially lead to higher rating. but further analysis will need to be used to determine if this is the case"
   ]
  },
  {
   "cell_type": "markdown",
   "metadata": {},
   "source": [
    "# conclusion"
   ]
  },
  {
   "cell_type": "markdown",
   "metadata": {},
   "source": [
    "The main objective of this analysis is to increase the overall average rating for both movies and shows to 7% by the end of next month. This is done by finding factors that affects the amount of ratings and vote while also increasing the Netflix catalogue with highly rated movie and shows. After gathering the data of netflix existing movie and shows and their rating, we did some analysis and came up with these conclusion\n",
    "\n",
    "1. the average imdb score is higher in shows than movies\n",
    "2. Netflix prioritized in acquiring movies than shows mostly from around the year 2019\n",
    "3. all age certification have had almost equal votes max votes apart from NC-17\n",
    "4. both movies and shows has similar top 5 ratings at around 9.0\n",
    "5. people dont have a preference for older or newer films\n",
    "6. both movie and shows runtime hover around 45-103 minutes of runtime\n",
    "7. there is a relationship between a movies rating and shows runtime\n",
    "\n",
    "Based on this insight we can give some recommendation on what netflix should do in order to improve their ratings. first recommendation is for netflix to focus less on acquiring too many movies and instead focus in acquiring fewer but highly rated movies, potentially one with higher runtime than the 103 minutes. second recommendation is for netflix to focus less in acquiring NC-17 rated movies as it could be one of the reason for the low movie rating compared to shows. lastly netflix could also try to acquire older films aswell instead of only focusing on the newly released as people dont seem to prefer one over the other. With this suggestion we think that netflix could achieve the 7.0 average rating as their best performing movie and show seems to be in the high end already."
   ]
  }
 ],
 "metadata": {
  "kernelspec": {
   "display_name": "base",
   "language": "python",
   "name": "python3"
  },
  "language_info": {
   "codemirror_mode": {
    "name": "ipython",
    "version": 3
   },
   "file_extension": ".py",
   "mimetype": "text/x-python",
   "name": "python",
   "nbconvert_exporter": "python",
   "pygments_lexer": "ipython3",
   "version": "3.11.7"
  }
 },
 "nbformat": 4,
 "nbformat_minor": 2
}
